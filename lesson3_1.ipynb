{
 "cells": [
  {
   "cell_type": "code",
   "execution_count": 1,
   "metadata": {},
   "outputs": [
    {
     "data": {
      "text/plain": [
       "5"
      ]
     },
     "execution_count": 1,
     "metadata": {},
     "output_type": "execute_result"
    }
   ],
   "source": [
    "n=int(input('請輸入n的值：'))\n",
    "n"
   ]
  },
  {
   "cell_type": "code",
   "execution_count": 2,
   "metadata": {},
   "outputs": [
    {
     "data": {
      "text/plain": [
       "690"
      ]
     },
     "execution_count": 2,
     "metadata": {},
     "output_type": "execute_result"
    }
   ],
   "source": [
    "n=int(input('請輸入n的值：'))\n",
    "m=int(input('請輸入m的值：'))\n",
    "total=n+m\n",
    "total"
   ]
  },
  {
   "cell_type": "code",
   "execution_count": 3,
   "metadata": {},
   "outputs": [
    {
     "data": {
      "text/plain": [
       "4.18"
      ]
     },
     "execution_count": 3,
     "metadata": {},
     "output_type": "execute_result"
    }
   ],
   "source": [
    "n=eval(input('請輸入n的值：'))\n",
    "m=eval(input('請輸入m的值：'))\n",
    "total=n+m\n",
    "total"
   ]
  },
  {
   "cell_type": "code",
   "execution_count": 4,
   "metadata": {},
   "outputs": [
    {
     "name": "stdout",
     "output_type": "stream",
     "text": [
      "3 5 abc 3 145\n"
     ]
    }
   ],
   "source": [
    "print(3,'5','abc',3,145)"
   ]
  },
  {
   "cell_type": "code",
   "execution_count": 5,
   "metadata": {},
   "outputs": [
    {
     "name": "stdout",
     "output_type": "stream",
     "text": [
      "3.15 + 4.567 = 7.7170000000000005\n"
     ]
    }
   ],
   "source": [
    "n=eval(input('請輸入n的值：'))\n",
    "m=eval(input('請輸入m的值：'))\n",
    "total=n+m\n",
    "print(n,'+',m,\"=\",total)"
   ]
  },
  {
   "cell_type": "code",
   "execution_count": 1,
   "metadata": {},
   "outputs": [
    {
     "name": "stdout",
     "output_type": "stream",
     "text": [
      "3.14156+5.6789=8.82046\n"
     ]
    }
   ],
   "source": [
    "n=eval(input('請輸入n的值：'))\n",
    "m=eval(input('請輸入m的值：'))\n",
    "total=n+m\n",
    "print(f\"{n}+{m}={total}\")"
   ]
  },
  {
   "cell_type": "code",
   "execution_count": 2,
   "metadata": {},
   "outputs": [
    {
     "name": "stdout",
     "output_type": "stream",
     "text": [
      "3.145678+5.98765=9.13\n"
     ]
    }
   ],
   "source": [
    "n=eval(input('請輸入n的值：'))\n",
    "m=eval(input('請輸入m的值：'))\n",
    "total=n+m\n",
    "print(f\"{n}+{m}={total:.2f}\")"
   ]
  }
 ],
 "metadata": {
  "kernelspec": {
   "display_name": "Python 3",
   "language": "python",
   "name": "python3"
  },
  "language_info": {
   "codemirror_mode": {
    "name": "ipython",
    "version": 3
   },
   "file_extension": ".py",
   "mimetype": "text/x-python",
   "name": "python",
   "nbconvert_exporter": "python",
   "pygments_lexer": "ipython3",
   "version": "3.10.14"
  }
 },
 "nbformat": 4,
 "nbformat_minor": 2
}
